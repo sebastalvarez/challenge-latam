{
 "cells": [
  {
   "cell_type": "markdown",
   "metadata": {},
   "source": [
    "En este archivo puedes escribir lo que estimes conveniente. Te recomendamos detallar tu solución y todas las suposiciones que estás considerando. Aquí puedes ejecutar las funciones que definiste en los otros archivos de la carpeta src, medir el tiempo, memoria, etc."
   ]
  },
  {
   "cell_type": "code",
   "execution_count": 1,
   "metadata": {},
   "outputs": [],
   "source": [
    "file_path = \"farmers-protest-tweets-2021-2-4.json\"\n"
   ]
  },
  {
   "cell_type": "code",
   "execution_count": 2,
   "metadata": {},
   "outputs": [],
   "source": [
    "import gdown\n",
    "import zipfile\n",
    "import pandas as pd\n",
    "from typing import List, Tuple\n",
    "from datetime import datetime\n",
    "import os\n",
    "from q1_memory import q1_memory\n",
    "from q1_time import q1_time\n",
    "\n"
   ]
  },
  {
   "cell_type": "markdown",
   "metadata": {},
   "source": [
    "Resultados deseados el top 10 fechas donde hay más tweets con su respectivo usuario."
   ]
  },
  {
   "cell_type": "code",
   "execution_count": null,
   "metadata": {},
   "outputs": [],
   "source": [
    "# URL de Google Drive\n",
    "url = \"https://drive.google.com/uc?export=download&id=1ig2ngoXFTxP5Pa8muXo02mDTFexZzsis\"\n",
    "\n",
    "# Definir el nombre del archivo ZIP\n",
    "output = 'tweets.json.zip'\n",
    "\n",
    "# Descargar el archivo usando gdown\n",
    "gdown.download(url, output, quiet=False)\n",
    "\n",
    "# Extraer el archivo ZIP\n",
    "with zipfile.ZipFile(output, 'r') as zip_ref:\n",
    "    zip_ref.extractall('')\n",
    "\n",
    "# Buscar el archivo JSON extraído\n",
    "extracted_files = zip_ref.namelist()\n",
    "json_file_path = next((file for file in extracted_files if file.endswith('.json')), None)\n",
    "\n",
    "# Comprobar si se encontró el archivo JSON\n",
    "if json_file_path:\n",
    "    json_file_path = os.path.join('', json_file_path)\n",
    "    print(f\"Archivo JSON extraído: {json_file_path}\")\n",
    "else:\n",
    "    print(\"No se encontró ningún archivo JSON en el ZIP.\")\n",
    "    exit(1)\n",
    "    \n",
    "#df = pd.read_json(json_file_path, lines=True)"
   ]
  },
  {
   "cell_type": "code",
   "execution_count": 3,
   "metadata": {},
   "outputs": [
    {
     "name": "stdout",
     "output_type": "stream",
     "text": [
      "result:\n",
      "Fecha: 2021-02-12, Usuario: RanbirS00614606\n",
      "Fecha: 2021-02-13, Usuario: MaanDee08215437\n",
      "Fecha: 2021-02-17, Usuario: RaaJVinderkaur\n",
      "Fecha: 2021-02-16, Usuario: jot__b\n",
      "Fecha: 2021-02-14, Usuario: rebelpacifist\n",
      "Fecha: 2021-02-18, Usuario: neetuanjle_nitu\n",
      "Fecha: 2021-02-15, Usuario: jot__b\n",
      "Fecha: 2021-02-20, Usuario: MangalJ23056160\n",
      "Fecha: 2021-02-23, Usuario: Surrypuria\n",
      "Fecha: 2021-02-19, Usuario: Preetm91\n",
      "Execution Time: 6.915433 seconds\n",
      "Memory Usage: 1128.2578125 MiB\n"
     ]
    }
   ],
   "source": [
    "top_dates_users_memory, mem_usage_memory = q1_memory(json_file_path)\n",
    "\n",
    "# Medir el tiempo de ejecución\n",
    "top_dates_users_time, exec_time_time = q1_time(json_file_path)\n",
    "\n",
    "# Mostrar los resultados\n",
    "\n",
    "print(\"result:\")\n",
    "for date, user in top_dates_users_time:\n",
    "    print(f\"Fecha: {date}, Usuario: {user}\")\n",
    "print(f\"Execution Time: {exec_time_time} seconds\")\n",
    "print(f\"Memory Usage: {mem_usage_memory} MiB\")"
   ]
  },
  {
   "cell_type": "markdown",
   "metadata": {},
   "source": [
    "CHALLENGE PARTE 2 "
   ]
  },
  {
   "cell_type": "code",
   "execution_count": 6,
   "metadata": {},
   "outputs": [],
   "source": [
    "from q2_time import q2_time\n",
    "from q2_memory import q2_memory"
   ]
  },
  {
   "cell_type": "markdown",
   "metadata": {},
   "source": [
    "Resultados deseados el top 10 emojis más usados con su respectivo conteo."
   ]
  },
  {
   "cell_type": "code",
   "execution_count": 7,
   "metadata": {},
   "outputs": [
    {
     "name": "stdout",
     "output_type": "stream",
     "text": [
      "result:\n",
      "Emoji: 🙏, Count: 1916\n",
      "Emoji: ❤️, Count: 952\n",
      "Emoji: 😂, Count: 627\n",
      "Emoji: 🌾, Count: 529\n",
      "Emoji: 💚, Count: 493\n",
      "Emoji: 👍, Count: 459\n",
      "Emoji: 👉, Count: 450\n",
      "Emoji: ✊, Count: 437\n",
      "Emoji: 🇮🇳, Count: 399\n",
      "Emoji: 👇, Count: 387\n",
      "Execution Time: 8.281445 seconds\n",
      "Memory Usage: 1139.51953125 MiB\n"
     ]
    }
   ],
   "source": [
    "# Medir el uso de memoria\n",
    "top_10_emojis_memory, mem_usage_memory = q2_memory(json_file_path)\n",
    "\n",
    "# Medir el tiempo de ejecución\n",
    "top_10_emojis_time, exec_time_time = q2_time(json_file_path)\n",
    "\n",
    "# Mostrar los resultados\n",
    "\n",
    "print(\"result:\")\n",
    "for emoji, count in top_10_emojis_time:\n",
    "    print(f\"Emoji: {emoji}, Count: {count}\")\n",
    "print(f\"Execution Time: {exec_time_time} seconds\")\n",
    "print(f\"Memory Usage: {mem_usage_memory} MiB\")"
   ]
  },
  {
   "cell_type": "markdown",
   "metadata": {},
   "source": [
    "CHALLENGE PARTE 3 "
   ]
  },
  {
   "cell_type": "code",
   "execution_count": 8,
   "metadata": {},
   "outputs": [],
   "source": [
    "from q3_time import q3_time\n",
    "from q3_memory import q3_memory"
   ]
  },
  {
   "cell_type": "markdown",
   "metadata": {},
   "source": [
    "Resultados deseados el top 10 histórico de usuarios (username) más influyentes en función del conteo de las menciones (@) que registra cada uno de ellos"
   ]
  },
  {
   "cell_type": "code",
   "execution_count": 10,
   "metadata": {},
   "outputs": [
    {
     "name": "stdout",
     "output_type": "stream",
     "text": [
      "result:\n",
      "Usuario: @narendramodi, Menciones: 2261\n",
      "Usuario: @Kisanektamorcha, Menciones: 1836\n",
      "Usuario: @RakeshTikaitBKU, Menciones: 1639\n",
      "Usuario: @PMOIndia, Menciones: 1422\n",
      "Usuario: @RahulGandhi, Menciones: 1125\n",
      "Usuario: @GretaThunberg, Menciones: 1046\n",
      "Usuario: @RaviSinghKA, Menciones: 1015\n",
      "Usuario: @rihanna, Menciones: 972\n",
      "Usuario: @UNHumanRights, Menciones: 962\n",
      "Usuario: @meenaharris, Menciones: 925\n",
      "Execution Time: 7.366438 seconds\n",
      "Memory Usage: 1149.09765625 MiB\n"
     ]
    }
   ],
   "source": [
    "# Medir el uso de memoria\n",
    "top_influential_users_memory, mem_usage_memory = q3_memory(json_file_path)\n",
    "\n",
    "# Medir el tiempo de ejecución\n",
    "top_influential_users_time, exec_time_time = q3_time(json_file_path)\n",
    "\n",
    "# Mostrar los resultados\n",
    "\n",
    "print(\"result:\")\n",
    "for user, count in top_influential_users_time:\n",
    "    print(f\"Usuario: {user}, Menciones: {count}\")\n",
    "print(f\"Execution Time: {exec_time_time} seconds\")\n",
    "print(f\"Memory Usage: {mem_usage_memory} MiB\")"
   ]
  }
 ],
 "metadata": {
  "kernelspec": {
   "display_name": "base",
   "language": "python",
   "name": "python3"
  },
  "language_info": {
   "codemirror_mode": {
    "name": "ipython",
    "version": 3
   },
   "file_extension": ".py",
   "mimetype": "text/x-python",
   "name": "python",
   "nbconvert_exporter": "python",
   "pygments_lexer": "ipython3",
   "version": "3.11.7"
  },
  "orig_nbformat": 4
 },
 "nbformat": 4,
 "nbformat_minor": 2
}
